{
 "cells": [
  {
   "cell_type": "code",
   "execution_count": null,
   "metadata": {},
   "outputs": [],
   "source": [
    "# Book: Hands-On GPU Programming with Python and CUDA\n",
    "# Link: https://learning.oreilly.com/library/view/hands-on-gpu-programming/9781788993913/e2a415d5-3875-4261-8200-6837d1c1598b.xhtml"
   ]
  },
  {
   "cell_type": "code",
   "execution_count": 4,
   "metadata": {},
   "outputs": [
    {
     "name": "stderr",
     "output_type": "stream",
     "text": [
      "UsageError: Line magic function `%%prun` not found.\n"
     ]
    }
   ],
   "source": [
    "%%prun -s cumulative -q -l 10 -T profile_mandelbrot\n",
    "# Profiling: Profile the cell, sort the report by \"cumulative time\", limit it to 10 lines and save it to a file named profile_mandelbrot\n",
    "\n",
    "# The Mandelbrot Set: \n",
    "import numpy as np\n",
    "from time import time\n",
    "import matplotlib\n",
    "matplotlib.use('Agg') \n",
    "from matplotlib import pyplot as plt\n",
    "\n",
    "\n",
    "\n",
    "def simple_mandelbrot(width, height, real_low, real_high, imaginary_low, imaginary_high, max_iters):\n",
    "    real_vals = np.linspace(real_low, real_high, width)\n",
    "    imag_vals = np.linspace(imaginary_low, imaginary_high, height)\n",
    "    \n",
    "    mandelbrot_graph = np.ones((height, width), dtype = np.float32)\n",
    "    \n",
    "    # Iterate through each cell\n",
    "    for x in range(width):\n",
    "        for y in range(height):\n",
    "            c = np.complex64(real_vals[x] + imag_vals[y] * 1j)\n",
    "            z = np.complex64(0)\n",
    "            for i in range(max_iters):\n",
    "                z = z**2 + c\n",
    "                if(np.abs(z) > 2):\n",
    "                    # z is a not a member of mandelbrot set - so set it to 0\n",
    "                    mandelbrot_graph[y, x] = 0\n",
    "                    break\n",
    "    return mandelbrot_graph\n",
    "\n",
    "if __name__ == '__main__':\n",
    "    t1 = time()\n",
    "    mandel = simple_mandelbrot(512, 512, -2, 2, -2, 2, 256)\n",
    "    t2 = time()\n",
    "    mandel_time = t2 - t1\n",
    "    \n",
    "    t1 = time()\n",
    "    fig = plt.figure(1)\n",
    "    plt.imshow(mandel, extent=(-2, 2, -2, 2))\n",
    "    plt.savefig('mandelbrot.png', dpi=fig.dpi)\n",
    "    t2 = time()\n",
    "    dump_time = t2 - t1\n",
    "    \n",
    "    print(f'It took {mandel_time} sec to calculate the Mandelbrot graph.')\n",
    "    print(f'It took {dump_time} sec to dump the image.')\n",
    "    \n",
    "    print(open('profile_mandelbrot', 'r').read())"
   ]
  },
  {
   "cell_type": "code",
   "execution_count": null,
   "metadata": {},
   "outputs": [],
   "source": []
  }
 ],
 "metadata": {
  "kernelspec": {
   "display_name": "Python 3",
   "language": "python",
   "name": "python3"
  },
  "language_info": {
   "codemirror_mode": {
    "name": "ipython",
    "version": 3
   },
   "file_extension": ".py",
   "mimetype": "text/x-python",
   "name": "python",
   "nbconvert_exporter": "python",
   "pygments_lexer": "ipython3",
   "version": "3.8.3"
  }
 },
 "nbformat": 4,
 "nbformat_minor": 4
}
